{
 "cells": [
  {
   "cell_type": "markdown",
   "metadata": {},
   "source": [
    "## 자료구조 실습1\n",
    "##### 201811944 성정아"
   ]
  },
  {
   "cell_type": "markdown",
   "metadata": {},
   "source": [
    "1. 구구단의 단을 입력 받아 역순으로 출력한다. 0이 입력되면 프로그램을 종료한다."
   ]
  },
  {
   "cell_type": "code",
   "execution_count": 1,
   "metadata": {},
   "outputs": [
    {
     "name": "stdout",
     "output_type": "stream",
     "text": [
      "구구단의 단을 입력하세요: 5\n",
      "5 x 9 = 45\n",
      "5 x 8 = 40\n",
      "5 x 7 = 35\n",
      "5 x 6 = 30\n",
      "5 x 5 = 25\n",
      "5 x 4 = 20\n",
      "5 x 3 = 15\n",
      "5 x 2 = 10\n",
      "5 x 1 = 5\n",
      "구구단의 단을 입력하세요: 9\n",
      "9 x 9 = 81\n",
      "9 x 8 = 72\n",
      "9 x 7 = 63\n",
      "9 x 6 = 54\n",
      "9 x 5 = 45\n",
      "9 x 4 = 36\n",
      "9 x 3 = 27\n",
      "9 x 2 = 18\n",
      "9 x 1 = 9\n",
      "구구단의 단을 입력하세요: 2\n",
      "2 x 9 = 18\n",
      "2 x 8 = 16\n",
      "2 x 7 = 14\n",
      "2 x 6 = 12\n",
      "2 x 5 = 10\n",
      "2 x 4 = 8\n",
      "2 x 3 = 6\n",
      "2 x 2 = 4\n",
      "2 x 1 = 2\n",
      "구구단의 단을 입력하세요: 0\n"
     ]
    }
   ],
   "source": [
    "while True:\n",
    "    num1=int(input('구구단의 단을 입력하세요: '))\n",
    "    if num1 != 0:\n",
    "        for i in range(9, 0, -1):\n",
    "            print(num1, \"x\", i, \"=\", num1*i)\n",
    "    if num1 == 0:\n",
    "        break"
   ]
  },
  {
   "cell_type": "markdown",
   "metadata": {},
   "source": [
    "2. 문자열 msg = “Data Structures in Python”을 선언하고, 먼저 이 문자열을 그대로 출력하고, 다음 모두 대문자로 바꿔 출력하고, 다음 모두 소문자로 바꿔 출력하고, 마지막으로 소문자는 대문자로 대문자는 소문자로 바꿔 출력한다."
   ]
  },
  {
   "cell_type": "code",
   "execution_count": 2,
   "metadata": {},
   "outputs": [
    {
     "name": "stdout",
     "output_type": "stream",
     "text": [
      "Data Structures in Python\n",
      "DATA STRUCTURES IN PYTHON\n",
      "data structures in python\n",
      "dATA sTRUCTURES IN pYTHON\n"
     ]
    }
   ],
   "source": [
    "while True:\n",
    "    msg = \"Data Structures in Python\"\n",
    "    print(msg)\n",
    "    print(msg.upper())\n",
    "    print(msg.casefold())\n",
    "    print(msg.swapcase())\n",
    "    break"
   ]
  },
  {
   "cell_type": "markdown",
   "metadata": {},
   "source": [
    "3. 어느 식당의 음식에 대한 가격 정보를 다음과 같이 딕셔너리로 표현하자.\n",
    "price = {‘콩나물해장국’:400, ‘갈비탕’:9000, ‘돈가스’:8000}\n",
    "여기에 새로운 메뉴 ‘펫타이’를 7000원에 추가하고, 모든 메뉴와 가격을 출력하는 코드를 작성한다. 또한 모든 메뉴의 가격을 500원 내리는 코드를 작성한다."
   ]
  },
  {
   "cell_type": "code",
   "execution_count": 3,
   "metadata": {},
   "outputs": [
    {
     "name": "stdout",
     "output_type": "stream",
     "text": [
      "{'콩나물해장국': 4500, '갈비탕': 9000, '돈가스': 8000, '팟타이': 7000}\n",
      "{'콩나물해장국': 4000, '갈비탕': 8500, '돈가스': 7500, '팟타이': 6500}\n"
     ]
    }
   ],
   "source": [
    "while True:\n",
    "    price = {'콩나물해장국':4500, '갈비탕':9000, '돈가스':8000}\n",
    "    price.update({'팟타이':7000})\n",
    "    print(price)\n",
    "    for i in price:\n",
    "        price[i] = price[i]-500\n",
    "    print(price)\n",
    "    break"
   ]
  },
  {
   "cell_type": "markdown",
   "metadata": {},
   "source": [
    "4. 리스트 lst = [7, 2, 6, 4, 5]와 같이 리스트를 선언하고 리스트의 모든 값을 더해 결과를 반환하는 함수를 구현한 후 함수 호출하여 결과를 출력한다."
   ]
  },
  {
   "cell_type": "code",
   "execution_count": 4,
   "metadata": {},
   "outputs": [
    {
     "name": "stdout",
     "output_type": "stream",
     "text": [
      "list: [7, 2, 6, 4, 5]\n",
      "Sum of list: 24\n"
     ]
    }
   ],
   "source": [
    "while True:\n",
    "    list = [7,2,6,4,5]\n",
    "    print(\"list:\",list)\n",
    "    result=sum(list)\n",
    "    print(\"Sum of list:\",result)\n",
    "    break"
   ]
  },
  {
   "cell_type": "markdown",
   "metadata": {},
   "source": [
    "5. 구구단의 단을 입력 받아 2단부터 입력 받은 단까지 수평으로 출력한다. 0이 입력되면 프로그램을 종료한다."
   ]
  },
  {
   "cell_type": "code",
   "execution_count": 5,
   "metadata": {},
   "outputs": [
    {
     "name": "stdout",
     "output_type": "stream",
     "text": [
      "구구단의 단을 입력하세요: 4\n",
      "2 x 1 = 2\t3 x 1 = 3\t4 x 1 = 4\t\n",
      "2 x 2 = 4\t3 x 2 = 6\t4 x 2 = 8\t\n",
      "2 x 3 = 6\t3 x 3 = 9\t4 x 3 = 12\t\n",
      "2 x 4 = 8\t3 x 4 = 12\t4 x 4 = 16\t\n",
      "2 x 5 = 10\t3 x 5 = 15\t4 x 5 = 20\t\n",
      "2 x 6 = 12\t3 x 6 = 18\t4 x 6 = 24\t\n",
      "2 x 7 = 14\t3 x 7 = 21\t4 x 7 = 28\t\n",
      "2 x 8 = 16\t3 x 8 = 24\t4 x 8 = 32\t\n",
      "2 x 9 = 18\t3 x 9 = 27\t4 x 9 = 36\t\n",
      "구구단의 단을 입력하세요: 6\n",
      "2 x 1 = 2\t3 x 1 = 3\t4 x 1 = 4\t5 x 1 = 5\t6 x 1 = 6\t\n",
      "2 x 2 = 4\t3 x 2 = 6\t4 x 2 = 8\t5 x 2 = 10\t6 x 2 = 12\t\n",
      "2 x 3 = 6\t3 x 3 = 9\t4 x 3 = 12\t5 x 3 = 15\t6 x 3 = 18\t\n",
      "2 x 4 = 8\t3 x 4 = 12\t4 x 4 = 16\t5 x 4 = 20\t6 x 4 = 24\t\n",
      "2 x 5 = 10\t3 x 5 = 15\t4 x 5 = 20\t5 x 5 = 25\t6 x 5 = 30\t\n",
      "2 x 6 = 12\t3 x 6 = 18\t4 x 6 = 24\t5 x 6 = 30\t6 x 6 = 36\t\n",
      "2 x 7 = 14\t3 x 7 = 21\t4 x 7 = 28\t5 x 7 = 35\t6 x 7 = 42\t\n",
      "2 x 8 = 16\t3 x 8 = 24\t4 x 8 = 32\t5 x 8 = 40\t6 x 8 = 48\t\n",
      "2 x 9 = 18\t3 x 9 = 27\t4 x 9 = 36\t5 x 9 = 45\t6 x 9 = 54\t\n",
      "구구단의 단을 입력하세요: 7\n",
      "2 x 1 = 2\t3 x 1 = 3\t4 x 1 = 4\t5 x 1 = 5\t6 x 1 = 6\t7 x 1 = 7\t\n",
      "2 x 2 = 4\t3 x 2 = 6\t4 x 2 = 8\t5 x 2 = 10\t6 x 2 = 12\t7 x 2 = 14\t\n",
      "2 x 3 = 6\t3 x 3 = 9\t4 x 3 = 12\t5 x 3 = 15\t6 x 3 = 18\t7 x 3 = 21\t\n",
      "2 x 4 = 8\t3 x 4 = 12\t4 x 4 = 16\t5 x 4 = 20\t6 x 4 = 24\t7 x 4 = 28\t\n",
      "2 x 5 = 10\t3 x 5 = 15\t4 x 5 = 20\t5 x 5 = 25\t6 x 5 = 30\t7 x 5 = 35\t\n",
      "2 x 6 = 12\t3 x 6 = 18\t4 x 6 = 24\t5 x 6 = 30\t6 x 6 = 36\t7 x 6 = 42\t\n",
      "2 x 7 = 14\t3 x 7 = 21\t4 x 7 = 28\t5 x 7 = 35\t6 x 7 = 42\t7 x 7 = 49\t\n",
      "2 x 8 = 16\t3 x 8 = 24\t4 x 8 = 32\t5 x 8 = 40\t6 x 8 = 48\t7 x 8 = 56\t\n",
      "2 x 9 = 18\t3 x 9 = 27\t4 x 9 = 36\t5 x 9 = 45\t6 x 9 = 54\t7 x 9 = 63\t\n",
      "구구단의 단을 입력하세요: 0\n"
     ]
    }
   ],
   "source": [
    "while True:\n",
    "    num1 = int(input('구구단의 단을 입력하세요: '))\n",
    "    if num1 != 0:\n",
    "        for i in range(1, 10):\n",
    "            for j in range(2, num1+1):\n",
    "                print(j, 'x', i, '=', j*i, end='\\t')\n",
    "            print()\n",
    "    if num1 == 0:\n",
    "        break"
   ]
  },
  {
   "cell_type": "markdown",
   "metadata": {},
   "source": [
    "6. 숫자 피라미드의 높이를 입력 받아 다음과 같이 출력되도록 한다. 0가 입력되면 프로그램을 종료한다. 교과서에 힌트를 참조한다."
   ]
  },
  {
   "cell_type": "code",
   "execution_count": 6,
   "metadata": {},
   "outputs": [
    {
     "name": "stdout",
     "output_type": "stream",
     "text": [
      "숫자를 입력하세요: 5\n",
      "          1 \n",
      "\n",
      "        1 3 1 \n",
      "\n",
      "      1 3 5 3 1 \n",
      "\n",
      "    1 3 5 7 5 3 1 \n",
      "\n",
      "  1 3 5 7 9 7 5 3 1 \n",
      "\n",
      "숫자를 입력하세요: 7\n",
      "              1 \n",
      "\n",
      "            1 3 1 \n",
      "\n",
      "          1 3 5 3 1 \n",
      "\n",
      "        1 3 5 7 5 3 1 \n",
      "\n",
      "      1 3 5 7 9 7 5 3 1 \n",
      "\n",
      "    1 3 5 7 9 11 9 7 5 3 1 \n",
      "\n",
      "  1 3 5 7 9 11 13 11 9 7 5 3 1 \n",
      "\n",
      "숫자를 입력하세요: 9\n",
      "                  1 \n",
      "\n",
      "                1 3 1 \n",
      "\n",
      "              1 3 5 3 1 \n",
      "\n",
      "            1 3 5 7 5 3 1 \n",
      "\n",
      "          1 3 5 7 9 7 5 3 1 \n",
      "\n",
      "        1 3 5 7 9 11 9 7 5 3 1 \n",
      "\n",
      "      1 3 5 7 9 11 13 11 9 7 5 3 1 \n",
      "\n",
      "    1 3 5 7 9 11 13 15 13 11 9 7 5 3 1 \n",
      "\n",
      "  1 3 5 7 9 11 13 15 17 15 13 11 9 7 5 3 1 \n",
      "\n",
      "숫자를 입력하세요: 0\n"
     ]
    }
   ],
   "source": [
    "while True:\n",
    "    h = int(input(\"숫자를 입력하세요: \"))\n",
    "    if h != 0:\n",
    "        for i in range(h):\n",
    "            print(\" \" * (2*(h - i)-1), end=\" \")\n",
    "            for j in range(i+1):\n",
    "                print(2 * j + 1, end=\" \")\n",
    "            for j in range(i, 0, -1):\n",
    "                print(2*j - 1, end=' ')\n",
    "            print(\"\\n\")\n",
    "    if h == 0:\n",
    "        break"
   ]
  },
  {
   "cell_type": "code",
   "execution_count": null,
   "metadata": {},
   "outputs": [],
   "source": []
  }
 ],
 "metadata": {
  "kernelspec": {
   "display_name": "Python 3",
   "language": "python",
   "name": "python3"
  },
  "language_info": {
   "codemirror_mode": {
    "name": "ipython",
    "version": 3
   },
   "file_extension": ".py",
   "mimetype": "text/x-python",
   "name": "python",
   "nbconvert_exporter": "python",
   "pygments_lexer": "ipython3",
   "version": "3.7.6"
  }
 },
 "nbformat": 4,
 "nbformat_minor": 4
}
