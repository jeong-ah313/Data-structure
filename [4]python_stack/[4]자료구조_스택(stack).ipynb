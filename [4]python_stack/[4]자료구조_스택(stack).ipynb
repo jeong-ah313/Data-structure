{
 "cells": [
  {
   "cell_type": "markdown",
   "metadata": {},
   "source": [
    "## 자료구조 실습4\n",
    "##### 201811944 성정아"
   ]
  },
  {
   "cell_type": "markdown",
   "metadata": {},
   "source": [
    "## 1. 문제 1: 스택 구현 \n",
    "\n",
    "스택을 클래스 사용하여 구현한다. 클래스 Stack을 다음과 같이 정의할 때 구현되지 않은 멤버 함수를 구현하고 실행한 결과와 같이 되도록 코딩한다. 명령 프롬프트에서 m을 입력하면 파일 “input.txt”에 있는 문장을 한 라인씩 읽어 괄호 쌍을 검사한다."
   ]
  },
  {
   "cell_type": "markdown",
   "metadata": {},
   "source": [
    "##### 조건1: 왼쪽 괄호의 개수와 오른쪽 괄호의 개수가 같아야 한다.\n",
    "##### 조건2: 같은 타입의 괄호에서 왼쪽 괄호가 오른쪽 괄호보다 먼저 나와야 한다.\n",
    "##### 조건3: 서로 다른 타입의 괄호 쌍이 서로를 교차하면 안된다."
   ]
  },
  {
   "cell_type": "code",
   "execution_count": 29,
   "metadata": {},
   "outputs": [],
   "source": [
    "class Stack:\n",
    "    def __init__(self):\n",
    "        self.top = []\n",
    "        \n",
    "    #구현해야 할 멤버 함수\n",
    "    def isEmpty(self):\n",
    "        return len(self.top) == 0\n",
    "        \n",
    "    def size(self):\n",
    "        return len(self.top)\n",
    "        \n",
    "    def clear(self):\n",
    "        global top\n",
    "        top = []\n",
    "        \n",
    "    def push(self, item):\n",
    "        self.top.append(item) #리스트의 맨 뒤에 self추가\n",
    "        \n",
    "    def pop(self):\n",
    "        if not self.isEmpty():\n",
    "            return self.top.pop(-1)\n",
    "        \n",
    "    def peek(self):\n",
    "        if not self.isEmpty():\n",
    "            return self.top[-1]\n",
    "        \n",
    "    def __str__(self):\n",
    "        return str(self.top[::-1])\n",
    "        #print(self.top)\n",
    "        "
   ]
  },
  {
   "cell_type": "code",
   "execution_count": 30,
   "metadata": {},
   "outputs": [],
   "source": [
    "#괄호 검사 함수\n",
    "\n",
    "def checkBrackets(statement):\n",
    "    stack = Stack()\n",
    "    for ch in statement:\n",
    "        if ch in ('{[('): #{[( 중에 있으면\n",
    "            stack.push(ch) #stack에 저장\n",
    "        elif ch in ('}])'): #}]) 중에 있으면\n",
    "            if stack.isEmpty(): #stack이 비어있다면\n",
    "                return False #조건2 위반 -> 스택이 비어있는데, 오른쪽괄호가 먼저 나온 것이기 때문\n",
    "            else: #stack이 비어있지 않다면\n",
    "                left = stack.pop() #리스트의 맨 뒤 항목을 하나꺼냄\n",
    "                if (ch == \"}\" and left != \"{\") or \\\n",
    "                    (ch == ']' and left != '[') or \\\n",
    "                    (ch == ')' and left != '('):\n",
    "                    return False #조건3 위반\n",
    "    return stack.isEmpty() #스택이 비어있다면(True): 짝이 잘 맞음, 스택이 비어있지않다면(False): 짝이 안맞음(조건1 위반)"
   ]
  },
  {
   "cell_type": "code",
   "execution_count": 31,
   "metadata": {},
   "outputs": [],
   "source": [
    "#소스파일의 괄호 검사\n",
    "\n",
    "def checkBracketsV2(lines):\n",
    "    for line in lines: #리스트의 모든 문자열에 대해\n",
    "        for ch in line:\n",
    "            if ch in ('{', '[', '('): #{[( 중에 있으면\n",
    "                stack.push(ch) #stack에 저장\n",
    "            elif ch in ('}])'): #}]) 중에 있으면\n",
    "                if stack.isEmpty(): #stack이 비어있다면\n",
    "                    return False #조건2 위반 -> 스택이 비어있는데, 오른쪽괄호가 먼저 나온 것이기 때문\n",
    "                else: #stack이 비어있지 않다면\n",
    "                    left = stack.pop() #리스트의 맨 뒤 항목을 하나꺼냄\n",
    "                    if (ch == \"}\" and left != \"{\") or \\\n",
    "                    (ch == ']' and left != '[') or \\\n",
    "                    (ch == ')' and left != '('):\n",
    "                        return False #조건3 위반\n",
    "        return stack.isEmpty() #스택이 비어있다면(True): 짝이 잘 맞음, 스택이 비어있지않다면(False): 짝이 안맞음(조건1 위반)"
   ]
  },
  {
   "cell_type": "code",
   "execution_count": 32,
   "metadata": {},
   "outputs": [],
   "source": [
    "#명령 프롬프트에서 m을 입력하면 파일 “input.txt”에 있는 문장을 한 라인씩 읽어 괄호 쌍을 검사한다."
   ]
  },
  {
   "cell_type": "code",
   "execution_count": 33,
   "metadata": {},
   "outputs": [],
   "source": [
    "def mylineEditor():\n",
    "    stack = Stack()\n",
    "    print(\"Enter a command: pop, push, peek, size, empty, p(rint), m(atch), q(uit)\")\n",
    "    \n",
    "    while True:\n",
    "        command = input() \n",
    "    \n",
    "        if command == 'push':\n",
    "            item = input(\"추가할 문자열 입력\")\n",
    "            stack.push(item)\n",
    "            \n",
    "        elif command == 'p':\n",
    "            #print(stack.top[::-1])\n",
    "             print(stack.__str__())\n",
    "            #print(stack.__str__)\n",
    "            \n",
    "        elif command == 'peek':\n",
    "            print(stack.peek())\n",
    "\n",
    "        elif command == 'pop':\n",
    "            print(stack.pop())\n",
    "\n",
    "        elif command == 'size':\n",
    "            print(stack.size())\n",
    "\n",
    "        elif command == 'empty':\n",
    "            print(stack.isEmpty())\n",
    "\n",
    "        elif command == 'm':\n",
    "            filename = 'input.txt'\n",
    "            infile = open(filename, 'r', encoding=\"utf-8\")\n",
    "            lines = infile.readlines()\n",
    "            for s in lines:\n",
    "                m = checkBrackets(s)\n",
    "                if m == True: print(s.rstrip(), '\\nmatched', )\n",
    "                elif m == False : print(s.rstrip(), '\\nnotmached')\n",
    "                #print(s, m)\n",
    "        \n",
    "        elif command == 'q':\n",
    "            break"
   ]
  },
  {
   "cell_type": "code",
   "execution_count": 34,
   "metadata": {},
   "outputs": [
    {
     "name": "stdout",
     "output_type": "stream",
     "text": [
      "Enter a command: pop, push, peek, size, empty, p(rint), m(atch), q(uit)\n",
      "push\n",
      "추가할 문자열 입력66\n",
      "push\n",
      "추가할 문자열 입력2\n",
      "push\n",
      "추가할 문자열 입력push\n",
      "push\n",
      "추가할 문자열 입력pop\n",
      "push\n",
      "추가할 문자열 입력99\n",
      "p\n",
      "['99', 'pop', 'push', '2', '66']\n",
      "peek\n",
      "99\n",
      "pop\n",
      "99\n",
      "p\n",
      "['pop', 'push', '2', '66']\n",
      "size\n",
      "4\n",
      "empty\n",
      "False\n",
      "m\n",
      "[()] \n",
      "matched\n",
      "{[()]} \n",
      "matched\n",
      "{([])} \n",
      "matched\n",
      "[ ] [ ] [ ] ( ) { } \n",
      "matched\n",
      "[ [ [ { { ( ( ( ) ) ) } } ] ] ] ( ) \n",
      "matched\n",
      "{()) \n",
      "notmached\n",
      "{{}] \n",
      "notmached\n",
      "{([[]])} \n",
      "matched\n",
      "{( ) } \n",
      "matched\n",
      "[ ( ] ) \n",
      "notmached\n",
      "(()))) \n",
      "notmached\n",
      "((())) \n",
      "matched\n",
      "(()(() \n",
      "notmached\n",
      "()() \n",
      "matched\n",
      "((()) \n",
      "notmached\n",
      "()) \n",
      "notmached\n",
      "(30 - 49) * (444 + 30) \n",
      "matched\n",
      "((3 + 4) * (30+ 40) + 400) \n",
      "matched\n",
      "((43 + 89)*4-(9+4))*3 - (883 + 2*(30+48)) \n",
      "matched\n",
      "((43 + 89)*4-(9+4))*3 - ((883 + 2*(30+48)) \n",
      "notmached\n",
      "q\n"
     ]
    }
   ],
   "source": [
    "mylineEditor()"
   ]
  },
  {
   "cell_type": "markdown",
   "metadata": {},
   "source": [
    "## 2. 문제 2: 십진수를 이진수로 변환\n",
    "\n",
    "문제 1에서 만든 클래스 Stack을 사용하여 십진수를 이진수로 변환하는 함수를 만들어 테스트한다. 십진수를 입력하면 이진수로 바꾸어 출력하되 -1을 입력하면 종료한다.\n",
    "\n",
    "십진수를 이진수로 변환하는 방법은 다음과 같이 스택을 사용하여 변환한다. 예를 들면 십진수 11을 이진수로 나타내면 1011이 된다. 십진수 11을 2로 나눈 나머지 1을 스택에 저장하고 몫 5를 다시 2로 나누어 나머지 1을 스택에 저장하고 또 몫 2를 2로 나누어 나머지 0을 스택에 저장하며, 이 과정을 반복해서 2미만이 된 몫을 스택에 저장한 후 스택에 저장된 숫자를 pop하여 출력하면 원하는 이진수를 얻게 된다.)"
   ]
  },
  {
   "cell_type": "code",
   "execution_count": 35,
   "metadata": {},
   "outputs": [],
   "source": [
    "def binary():\n",
    "    stack = Stack()\n",
    "    \n",
    "    while True:\n",
    "        num = int(input(\"Enter a decimal number: \"))\n",
    "        init = num\n",
    "        \n",
    "        if num == -1:\n",
    "                break \n",
    "        \n",
    "        if num > 2:\n",
    "            print(init, '==>', end='')\n",
    "            Decimal = num\n",
    "            while Decimal > 2:\n",
    "                Decimal = num // 2 #몫\n",
    "                Share = num % 2 #나머지\n",
    "                stack.push(Share)\n",
    "                num  = Decimal\n",
    "                \n",
    "        Decimal = num // 2 #몫\n",
    "        Share = num % 2 #나머지\n",
    "        stack.push(Share)\n",
    "        if Decimal != 0:\n",
    "            stack.push(Decimal)\n",
    "\n",
    "        for i in range(1,stack.size()+1):\n",
    "            print(stack.pop(), end='')\n",
    "        print('\\n') #한줄띄우기"
   ]
  },
  {
   "cell_type": "code",
   "execution_count": 36,
   "metadata": {},
   "outputs": [
    {
     "name": "stdout",
     "output_type": "stream",
     "text": [
      "Enter a decimal number: 11\n",
      "11 ==>1011\n",
      "\n",
      "Enter a decimal number: 234\n",
      "234 ==>11101010\n",
      "\n",
      "Enter a decimal number: 123456789\n",
      "123456789 ==>111010110111100110100010101\n",
      "\n",
      "Enter a decimal number: 6\n",
      "6 ==>110\n",
      "\n",
      "Enter a decimal number: 12\n",
      "12 ==>1100\n",
      "\n",
      "Enter a decimal number: -1\n"
     ]
    }
   ],
   "source": [
    "binary()"
   ]
  },
  {
   "cell_type": "markdown",
   "metadata": {},
   "source": [
    "## 3. 문제 3: 미로 찾기\n",
    "\n",
    "주어진 파일(“maze.txt”)에 미로가 그려져 있다. ‘1’은 통과 할 수 없는 블록을 나타내며 ‘0’은 통과 할 수 있는 통로를 나타낸다. ‘E’는 탈출할 수 있는 위치를 나타낸다. 첫 줄은 미로의 행과 열의 수를 나타낸다. 입력 파일 (“input1.txt”)에 처음 시작 위치를 나타내는 행, 열이 주어져 있다. 첫 행과 첫 열은 1로 나타낸다 (교과서는 0로 나타냄). 각 줄의 시작 위치에서 미로를 탈출할 수 있는지 판단한다. \n",
    "\n",
    "[힌트] \n",
    "\n",
    "“maze.txt”에 주어진 미로를 리스트 사용하여 이차원 배열로 나타내어 처리한다. 우선 리스트에 저장된 이차원 배열을 출력해보고 이상이 없으면 다음 단계로 진행한다."
   ]
  },
  {
   "cell_type": "code",
   "execution_count": 37,
   "metadata": {},
   "outputs": [],
   "source": [
    "import os #파일읽기위함"
   ]
  },
  {
   "cell_type": "code",
   "execution_count": 38,
   "metadata": {},
   "outputs": [],
   "source": [
    "#maze.txt 읽기위함\n",
    "def readMaze(file_name):\n",
    "    file = open(file_name, 'r')\n",
    "    maze = file.read().split('\\n')\n",
    "    \n",
    "    [height, width] = maze.pop(0).split(' ') #1행에 저장된 행렬의 크기 꺼내서 읽음\n",
    "\n",
    "    return int(height), int(width), maze"
   ]
  },
  {
   "cell_type": "code",
   "execution_count": 39,
   "metadata": {},
   "outputs": [],
   "source": [
    "#input1.txt 읽기위함\n",
    "def readStartPoints(file_name):\n",
    "    file = open(file_name, 'r')\n",
    "    start_points = file.read().split('\\n')\n",
    "    return list(map(lambda line: [int(i)-1 for i in line.split(' ')], start_points))"
   ]
  },
  {
   "cell_type": "code",
   "execution_count": 40,
   "metadata": {},
   "outputs": [],
   "source": [
    "def get(maze, p):\n",
    "    return maze[p[0]][p[1]]"
   ]
  },
  {
   "cell_type": "code",
   "execution_count": 41,
   "metadata": {},
   "outputs": [],
   "source": [
    "def isValidPos(pos, h, w):\n",
    "    [x, y] = pos\n",
    "    return x < 0 or x >= h or y < 0 or y >= w\n",
    "\n",
    "def dfs(visited, maze, sp, h, w):\n",
    "    if get(maze, sp) == '1':\n",
    "        return False\n",
    "    \n",
    "    dirs = [[0, -1], [-1, 0], [0, 1], [1, 0]] # 왼쪽, 위, 오른쪽, 아래\n",
    "    \n",
    "    stack = Stack()\n",
    "    stack.push(sp) #시작위치 삽입\n",
    "    visited[sp[0]][sp[1]] = True #visited 배열 만들어둠\n",
    "\n",
    "    while not stack.isEmpty():\n",
    "        now = stack.pop()\n",
    "        \n",
    "        for d in dirs:\n",
    "            nxt = [d[0] + now[0], d[1] + now[1]]\n",
    "            if not isValidPos(nxt, h, w):\n",
    "                if get(maze, nxt) == '0' and not get(visited, nxt): #0이고 방문하지 않은 곳이라면\n",
    "                    visited[nxt[0]][nxt[1]] = True #다음 후보군에 넣는다.\n",
    "                    stack.push(nxt) #방금 방문 했으니까 push\n",
    "                elif get(maze, nxt) == 'E': #출구 탐색 성공\n",
    "                    return True\n",
    "\n",
    "    return False"
   ]
  },
  {
   "cell_type": "code",
   "execution_count": 42,
   "metadata": {},
   "outputs": [],
   "source": [
    "def Save(maze, h, w, sp): #배열에 지금까지 지나온 위치들을 저장\n",
    "    visited = [[False for i in range(w)] for j in range(h)] #visited 배열\n",
    "    return dfs(visited, maze, sp, h, w)"
   ]
  },
  {
   "cell_type": "code",
   "execution_count": 43,
   "metadata": {},
   "outputs": [
    {
     "name": "stdout",
     "output_type": "stream",
     "text": [
      "(1,7) 에서 출발 ==>  X, 실패\n",
      "(7,6) 에서 출발 ==>  O, 성공\n",
      "(8,5) 에서 출발 ==>  O, 성공\n",
      "(10,5) 에서 출발 ==>  O, 성공\n",
      "(7,10) 에서 출발 ==>  O, 성공\n",
      "(11,4) 에서 출발 ==>  O, 성공\n",
      "(5,6) 에서 출발 ==>  X, 실패\n",
      "(12,8) 에서 출발 ==>  O, 성공\n",
      "(2,12) 에서 출발 ==>  X, 실패\n",
      "(11,8) 에서 출발 ==>  O, 성공\n",
      "(2,3) 에서 출발 ==>  X, 실패\n",
      "(9,8) 에서 출발 ==>  O, 성공\n",
      "(11,11) 에서 출발 ==>  O, 성공\n",
      "(1,11) 에서 출발 ==>  X, 실패\n",
      "(10,14) 에서 출발 ==>  O, 성공\n",
      "(7,15) 에서 출발 ==>  O, 성공\n"
     ]
    }
   ],
   "source": [
    "#출력\n",
    "def main():\n",
    "    start_points = readStartPoints('input1.txt')\n",
    "    h, w, maze = readMaze('maze.txt')\n",
    "  \n",
    "    for sp in start_points:\n",
    "        if Save(maze, h, w, sp):\n",
    "            print('({},{}) 에서 출발 ==>  O, 성공'.format(sp[0]+1, sp[1]+1))\n",
    "        else:\n",
    "            print('({},{}) 에서 출발 ==>  X, 실패'.format(sp[0]+1, sp[1]+1))\n",
    "            \n",
    "            \n",
    "main()"
   ]
  },
  {
   "cell_type": "code",
   "execution_count": null,
   "metadata": {},
   "outputs": [],
   "source": []
  },
  {
   "cell_type": "code",
   "execution_count": null,
   "metadata": {},
   "outputs": [],
   "source": []
  }
 ],
 "metadata": {
  "kernelspec": {
   "display_name": "Python 3",
   "language": "python",
   "name": "python3"
  },
  "language_info": {
   "codemirror_mode": {
    "name": "ipython",
    "version": 3
   },
   "file_extension": ".py",
   "mimetype": "text/x-python",
   "name": "python",
   "nbconvert_exporter": "python",
   "pygments_lexer": "ipython3",
   "version": "3.7.6"
  }
 },
 "nbformat": 4,
 "nbformat_minor": 4
}
